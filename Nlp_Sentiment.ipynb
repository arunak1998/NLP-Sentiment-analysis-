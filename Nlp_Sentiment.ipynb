{
 "cells": [
  {
   "cell_type": "code",
   "execution_count": 1,
   "id": "c380bace-8222-4e0f-b675-22874fab8b97",
   "metadata": {},
   "outputs": [],
   "source": [
    "import pandas as pd\n",
    "import numpy as np\n",
    "import spacy \n",
    " "
   ]
  },
  {
   "cell_type": "code",
   "execution_count": 2,
   "id": "2fa06ebe-8ec7-4158-995b-48984abc7598",
   "metadata": {},
   "outputs": [],
   "source": [
    "df=pd.read_csv('dataset.csv')"
   ]
  },
  {
   "cell_type": "code",
   "execution_count": 3,
   "id": "fb69cb2b-d6ac-439a-8fe2-8141957dd022",
   "metadata": {},
   "outputs": [
    {
     "data": {
      "text/html": [
       "<div>\n",
       "<style scoped>\n",
       "    .dataframe tbody tr th:only-of-type {\n",
       "        vertical-align: middle;\n",
       "    }\n",
       "\n",
       "    .dataframe tbody tr th {\n",
       "        vertical-align: top;\n",
       "    }\n",
       "\n",
       "    .dataframe thead th {\n",
       "        text-align: right;\n",
       "    }\n",
       "</style>\n",
       "<table border=\"1\" class=\"dataframe\">\n",
       "  <thead>\n",
       "    <tr style=\"text-align: right;\">\n",
       "      <th></th>\n",
       "      <th>Text</th>\n",
       "      <th>Language</th>\n",
       "      <th>Label</th>\n",
       "    </tr>\n",
       "  </thead>\n",
       "  <tbody>\n",
       "    <tr>\n",
       "      <th>0</th>\n",
       "      <td>@Charlie_Corley @Kristine1G @amyklobuchar @Sty...</td>\n",
       "      <td>en</td>\n",
       "      <td>litigious</td>\n",
       "    </tr>\n",
       "    <tr>\n",
       "      <th>1</th>\n",
       "      <td>#BadBunny: Como dos gotas de agua: Joven se di...</td>\n",
       "      <td>es</td>\n",
       "      <td>negative</td>\n",
       "    </tr>\n",
       "    <tr>\n",
       "      <th>2</th>\n",
       "      <td>https://t.co/YJNiO0p1JV Flagstar Bank disclose...</td>\n",
       "      <td>en</td>\n",
       "      <td>litigious</td>\n",
       "    </tr>\n",
       "    <tr>\n",
       "      <th>3</th>\n",
       "      <td>Rwanda is set to host the headquarters of Unit...</td>\n",
       "      <td>en</td>\n",
       "      <td>positive</td>\n",
       "    </tr>\n",
       "    <tr>\n",
       "      <th>4</th>\n",
       "      <td>OOPS. I typed her name incorrectly (today’s br...</td>\n",
       "      <td>en</td>\n",
       "      <td>litigious</td>\n",
       "    </tr>\n",
       "    <tr>\n",
       "      <th>...</th>\n",
       "      <td>...</td>\n",
       "      <td>...</td>\n",
       "      <td>...</td>\n",
       "    </tr>\n",
       "    <tr>\n",
       "      <th>937849</th>\n",
       "      <td>@Juice_Lemons in the dark. it’s so good</td>\n",
       "      <td>en</td>\n",
       "      <td>positive</td>\n",
       "    </tr>\n",
       "    <tr>\n",
       "      <th>937850</th>\n",
       "      <td>8.SSR &amp;amp; Disha Salian case should be solved...</td>\n",
       "      <td>en</td>\n",
       "      <td>negative</td>\n",
       "    </tr>\n",
       "    <tr>\n",
       "      <th>937851</th>\n",
       "      <td>*ACCIDENT:  Damage Only* - Raleigh Fire Depart...</td>\n",
       "      <td>en</td>\n",
       "      <td>negative</td>\n",
       "    </tr>\n",
       "    <tr>\n",
       "      <th>937852</th>\n",
       "      <td>@reblavoie So happy for her! She’s been incred...</td>\n",
       "      <td>en</td>\n",
       "      <td>positive</td>\n",
       "    </tr>\n",
       "    <tr>\n",
       "      <th>937853</th>\n",
       "      <td>I'm lost and I'm found but</td>\n",
       "      <td>en</td>\n",
       "      <td>negative</td>\n",
       "    </tr>\n",
       "  </tbody>\n",
       "</table>\n",
       "<p>937854 rows × 3 columns</p>\n",
       "</div>"
      ],
      "text/plain": [
       "                                                     Text Language      Label\n",
       "0       @Charlie_Corley @Kristine1G @amyklobuchar @Sty...       en  litigious\n",
       "1       #BadBunny: Como dos gotas de agua: Joven se di...       es   negative\n",
       "2       https://t.co/YJNiO0p1JV Flagstar Bank disclose...       en  litigious\n",
       "3       Rwanda is set to host the headquarters of Unit...       en   positive\n",
       "4       OOPS. I typed her name incorrectly (today’s br...       en  litigious\n",
       "...                                                   ...      ...        ...\n",
       "937849            @Juice_Lemons in the dark. it’s so good       en   positive\n",
       "937850  8.SSR &amp; Disha Salian case should be solved...       en   negative\n",
       "937851  *ACCIDENT:  Damage Only* - Raleigh Fire Depart...       en   negative\n",
       "937852  @reblavoie So happy for her! She’s been incred...       en   positive\n",
       "937853                         I'm lost and I'm found but       en   negative\n",
       "\n",
       "[937854 rows x 3 columns]"
      ]
     },
     "execution_count": 3,
     "metadata": {},
     "output_type": "execute_result"
    }
   ],
   "source": [
    "df"
   ]
  },
  {
   "cell_type": "code",
   "execution_count": 5,
   "id": "344473fe-ad95-494e-a96d-e88acba45cec",
   "metadata": {},
   "outputs": [
    {
     "data": {
      "text/plain": [
       "Text         0\n",
       "Language    23\n",
       "Label        0\n",
       "dtype: int64"
      ]
     },
     "execution_count": 5,
     "metadata": {},
     "output_type": "execute_result"
    }
   ],
   "source": [
    "df.isna().sum()"
   ]
  },
  {
   "cell_type": "raw",
   "id": "ae826010-632d-4085-b0ef-158a5afc43b3",
   "metadata": {},
   "source": [
    "we have to handle only ennglish language so i am storing English alone in one dataset "
   ]
  },
  {
   "cell_type": "code",
   "execution_count": 9,
   "id": "f17fb31e-d8ca-49b7-aa28-c03bd84d6939",
   "metadata": {},
   "outputs": [],
   "source": [
    "df_new=df[df['Language']=='en']"
   ]
  },
  {
   "cell_type": "code",
   "execution_count": 10,
   "id": "143cabc4-a706-4713-aae9-38555a482efa",
   "metadata": {},
   "outputs": [
    {
     "data": {
      "text/html": [
       "<div>\n",
       "<style scoped>\n",
       "    .dataframe tbody tr th:only-of-type {\n",
       "        vertical-align: middle;\n",
       "    }\n",
       "\n",
       "    .dataframe tbody tr th {\n",
       "        vertical-align: top;\n",
       "    }\n",
       "\n",
       "    .dataframe thead th {\n",
       "        text-align: right;\n",
       "    }\n",
       "</style>\n",
       "<table border=\"1\" class=\"dataframe\">\n",
       "  <thead>\n",
       "    <tr style=\"text-align: right;\">\n",
       "      <th></th>\n",
       "      <th>Text</th>\n",
       "      <th>Language</th>\n",
       "      <th>Label</th>\n",
       "    </tr>\n",
       "  </thead>\n",
       "  <tbody>\n",
       "    <tr>\n",
       "      <th>0</th>\n",
       "      <td>@Charlie_Corley @Kristine1G @amyklobuchar @Sty...</td>\n",
       "      <td>en</td>\n",
       "      <td>litigious</td>\n",
       "    </tr>\n",
       "    <tr>\n",
       "      <th>2</th>\n",
       "      <td>https://t.co/YJNiO0p1JV Flagstar Bank disclose...</td>\n",
       "      <td>en</td>\n",
       "      <td>litigious</td>\n",
       "    </tr>\n",
       "    <tr>\n",
       "      <th>3</th>\n",
       "      <td>Rwanda is set to host the headquarters of Unit...</td>\n",
       "      <td>en</td>\n",
       "      <td>positive</td>\n",
       "    </tr>\n",
       "    <tr>\n",
       "      <th>4</th>\n",
       "      <td>OOPS. I typed her name incorrectly (today’s br...</td>\n",
       "      <td>en</td>\n",
       "      <td>litigious</td>\n",
       "    </tr>\n",
       "    <tr>\n",
       "      <th>5</th>\n",
       "      <td>It sucks for me since I'm focused on the natur...</td>\n",
       "      <td>en</td>\n",
       "      <td>negative</td>\n",
       "    </tr>\n",
       "    <tr>\n",
       "      <th>...</th>\n",
       "      <td>...</td>\n",
       "      <td>...</td>\n",
       "      <td>...</td>\n",
       "    </tr>\n",
       "    <tr>\n",
       "      <th>937849</th>\n",
       "      <td>@Juice_Lemons in the dark. it’s so good</td>\n",
       "      <td>en</td>\n",
       "      <td>positive</td>\n",
       "    </tr>\n",
       "    <tr>\n",
       "      <th>937850</th>\n",
       "      <td>8.SSR &amp;amp; Disha Salian case should be solved...</td>\n",
       "      <td>en</td>\n",
       "      <td>negative</td>\n",
       "    </tr>\n",
       "    <tr>\n",
       "      <th>937851</th>\n",
       "      <td>*ACCIDENT:  Damage Only* - Raleigh Fire Depart...</td>\n",
       "      <td>en</td>\n",
       "      <td>negative</td>\n",
       "    </tr>\n",
       "    <tr>\n",
       "      <th>937852</th>\n",
       "      <td>@reblavoie So happy for her! She’s been incred...</td>\n",
       "      <td>en</td>\n",
       "      <td>positive</td>\n",
       "    </tr>\n",
       "    <tr>\n",
       "      <th>937853</th>\n",
       "      <td>I'm lost and I'm found but</td>\n",
       "      <td>en</td>\n",
       "      <td>negative</td>\n",
       "    </tr>\n",
       "  </tbody>\n",
       "</table>\n",
       "<p>871310 rows × 3 columns</p>\n",
       "</div>"
      ],
      "text/plain": [
       "                                                     Text Language      Label\n",
       "0       @Charlie_Corley @Kristine1G @amyklobuchar @Sty...       en  litigious\n",
       "2       https://t.co/YJNiO0p1JV Flagstar Bank disclose...       en  litigious\n",
       "3       Rwanda is set to host the headquarters of Unit...       en   positive\n",
       "4       OOPS. I typed her name incorrectly (today’s br...       en  litigious\n",
       "5       It sucks for me since I'm focused on the natur...       en   negative\n",
       "...                                                   ...      ...        ...\n",
       "937849            @Juice_Lemons in the dark. it’s so good       en   positive\n",
       "937850  8.SSR &amp; Disha Salian case should be solved...       en   negative\n",
       "937851  *ACCIDENT:  Damage Only* - Raleigh Fire Depart...       en   negative\n",
       "937852  @reblavoie So happy for her! She’s been incred...       en   positive\n",
       "937853                         I'm lost and I'm found but       en   negative\n",
       "\n",
       "[871310 rows x 3 columns]"
      ]
     },
     "execution_count": 10,
     "metadata": {},
     "output_type": "execute_result"
    }
   ],
   "source": [
    "df_new"
   ]
  },
  {
   "cell_type": "code",
   "execution_count": 11,
   "id": "7c4bbd36-b5d9-46ff-80d6-14905a25d590",
   "metadata": {},
   "outputs": [
    {
     "data": {
      "text/plain": [
       "Text        0\n",
       "Language    0\n",
       "Label       0\n",
       "dtype: int64"
      ]
     },
     "execution_count": 11,
     "metadata": {},
     "output_type": "execute_result"
    }
   ],
   "source": [
    "df_new.isna().sum()"
   ]
  },
  {
   "cell_type": "markdown",
   "id": "fd27b465-714c-4d7b-90c8-aa73859d1804",
   "metadata": {},
   "source": [
    "No null values"
   ]
  },
  {
   "cell_type": "code",
   "execution_count": 13,
   "id": "86310547-3604-4564-b993-aee8080db12c",
   "metadata": {},
   "outputs": [
    {
     "data": {
      "text/plain": [
       "Label\n",
       "positive       248516\n",
       "negative       244146\n",
       "uncertainty    198586\n",
       "litigious      180062\n",
       "Name: count, dtype: int64"
      ]
     },
     "execution_count": 13,
     "metadata": {},
     "output_type": "execute_result"
    }
   ],
   "source": [
    "df_new['Label'].value_counts()"
   ]
  },
  {
   "cell_type": "raw",
   "id": "eb27aa21-472a-4486-b860-22ff3b109af4",
   "metadata": {},
   "source": [
    "COnverting lables to encoding values for output variable"
   ]
  },
  {
   "cell_type": "code",
   "execution_count": 16,
   "id": "27ef409f-c480-4706-b07f-42c0825d2a92",
   "metadata": {},
   "outputs": [
    {
     "name": "stderr",
     "output_type": "stream",
     "text": [
      "C:\\Users\\Arun\\AppData\\Local\\Temp\\ipykernel_4304\\1911911054.py:7: SettingWithCopyWarning: \n",
      "A value is trying to be set on a copy of a slice from a DataFrame.\n",
      "Try using .loc[row_indexer,col_indexer] = value instead\n",
      "\n",
      "See the caveats in the documentation: https://pandas.pydata.org/pandas-docs/stable/user_guide/indexing.html#returning-a-view-versus-a-copy\n",
      "  df_new['Label'] = df_new['Label'].map(label_mapping)\n"
     ]
    }
   ],
   "source": [
    "label_mapping = {\n",
    "    'positive': 0,\n",
    "    'negative': 1,\n",
    "    'uncertainty': 2,\n",
    "    'litigious': 3\n",
    "}\n",
    "df_new['Label'] = df_new['Label'].map(label_mapping)"
   ]
  },
  {
   "cell_type": "code",
   "execution_count": 17,
   "id": "4aa6ec5e-4eec-47fe-91ea-9680c568cdd5",
   "metadata": {},
   "outputs": [
    {
     "data": {
      "text/plain": [
       "Label\n",
       "0    248516\n",
       "1    244146\n",
       "2    198586\n",
       "3    180062\n",
       "Name: count, dtype: int64"
      ]
     },
     "execution_count": 17,
     "metadata": {},
     "output_type": "execute_result"
    }
   ],
   "source": [
    "df_new['Label'].value_counts()"
   ]
  },
  {
   "cell_type": "code",
   "execution_count": 69,
   "id": "a0564d5d-1238-43d7-9eee-6bde2530ad3d",
   "metadata": {},
   "outputs": [],
   "source": [
    "#### Data Preprocessing"
   ]
  },
  {
   "cell_type": "code",
   "execution_count": 55,
   "id": "4a35ef06-9eed-4747-b894-d0aa02379b6e",
   "metadata": {},
   "outputs": [],
   "source": [
    "import re\n",
    "nlp = spacy.load(\"en_core_web_sm\")\n",
    "def textprocessing(context):\n",
    "  \n",
    "\n",
    "  doc = nlp(context)# Reconstruct text for spaCy processing\n",
    "\n",
    "\n",
    "  lemmas = [token.lemma_.lower() for token in doc if not token.is_stop and not token.is_punct   and len(token.text) > 1 \n",
    "        and token.text.isalpha()  ]\n",
    "    \n",
    "    # Join the lemmas back into a single string\n",
    "  processed_text = ' '.join(lemmas)\n",
    "\n",
    "  return processed_text\n",
    "\n",
    "                "
   ]
  },
  {
   "cell_type": "code",
   "execution_count": 57,
   "id": "9f8e70cd-d582-4f50-beb5-3b9d8043b187",
   "metadata": {},
   "outputs": [
    {
     "data": {
      "text/plain": [
       "'testimony flagstar bank disclose evidence court law state federal stand cross examination'"
      ]
     },
     "execution_count": 57,
     "metadata": {},
     "output_type": "execute_result"
    }
   ],
   "source": [
    "text=\"@Charlie_Corley @Kristine1G @amyklobuchar @StyleWriterNYC testimony https://t.co/YJNiO0p1JV Flagstar Bank disclose is NOT evidence in a court of law, state or federal. Must stand up 123 to cross examination\"\n",
    "textprocessing(text)"
   ]
  },
  {
   "cell_type": "code",
   "execution_count": 58,
   "id": "4be08344-2f5e-4170-a876-9b60876d4b3e",
   "metadata": {},
   "outputs": [
    {
     "name": "stderr",
     "output_type": "stream",
     "text": [
      "C:\\Users\\Arun\\AppData\\Local\\Temp\\ipykernel_4304\\3311756871.py:1: SettingWithCopyWarning: \n",
      "A value is trying to be set on a copy of a slice from a DataFrame.\n",
      "Try using .loc[row_indexer,col_indexer] = value instead\n",
      "\n",
      "See the caveats in the documentation: https://pandas.pydata.org/pandas-docs/stable/user_guide/indexing.html#returning-a-view-versus-a-copy\n",
      "  df_new['precessed_text']=df_new['Text'].apply(textprocessing)\n"
     ]
    }
   ],
   "source": [
    "df_new['precessed_text']=df_new['Text'].apply(textprocessing)"
   ]
  },
  {
   "cell_type": "code",
   "execution_count": 59,
   "id": "eee709f9-1984-4bfa-85d1-3a0ab033f1e2",
   "metadata": {},
   "outputs": [
    {
     "data": {
      "text/html": [
       "<div>\n",
       "<style scoped>\n",
       "    .dataframe tbody tr th:only-of-type {\n",
       "        vertical-align: middle;\n",
       "    }\n",
       "\n",
       "    .dataframe tbody tr th {\n",
       "        vertical-align: top;\n",
       "    }\n",
       "\n",
       "    .dataframe thead th {\n",
       "        text-align: right;\n",
       "    }\n",
       "</style>\n",
       "<table border=\"1\" class=\"dataframe\">\n",
       "  <thead>\n",
       "    <tr style=\"text-align: right;\">\n",
       "      <th></th>\n",
       "      <th>Text</th>\n",
       "      <th>Language</th>\n",
       "      <th>Label</th>\n",
       "      <th>precessed_text</th>\n",
       "    </tr>\n",
       "  </thead>\n",
       "  <tbody>\n",
       "    <tr>\n",
       "      <th>0</th>\n",
       "      <td>@Charlie_Corley @Kristine1G @amyklobuchar @Sty...</td>\n",
       "      <td>en</td>\n",
       "      <td>3</td>\n",
       "      <td>testimony evidence court law state federal sta...</td>\n",
       "    </tr>\n",
       "    <tr>\n",
       "      <th>2</th>\n",
       "      <td>https://t.co/YJNiO0p1JV Flagstar Bank disclose...</td>\n",
       "      <td>en</td>\n",
       "      <td>3</td>\n",
       "      <td>flagstar bank disclose data breach impact mill...</td>\n",
       "    </tr>\n",
       "    <tr>\n",
       "      <th>3</th>\n",
       "      <td>Rwanda is set to host the headquarters of Unit...</td>\n",
       "      <td>en</td>\n",
       "      <td>0</td>\n",
       "      <td>rwanda set host headquarters united nations de...</td>\n",
       "    </tr>\n",
       "    <tr>\n",
       "      <th>4</th>\n",
       "      <td>OOPS. I typed her name incorrectly (today’s br...</td>\n",
       "      <td>en</td>\n",
       "      <td>3</td>\n",
       "      <td>oops type incorrectly today brave witness cass...</td>\n",
       "    </tr>\n",
       "    <tr>\n",
       "      <th>5</th>\n",
       "      <td>It sucks for me since I'm focused on the natur...</td>\n",
       "      <td>en</td>\n",
       "      <td>1</td>\n",
       "      <td>suck focused nature aspect thing environmental...</td>\n",
       "    </tr>\n",
       "  </tbody>\n",
       "</table>\n",
       "</div>"
      ],
      "text/plain": [
       "                                                Text Language  Label  \\\n",
       "0  @Charlie_Corley @Kristine1G @amyklobuchar @Sty...       en      3   \n",
       "2  https://t.co/YJNiO0p1JV Flagstar Bank disclose...       en      3   \n",
       "3  Rwanda is set to host the headquarters of Unit...       en      0   \n",
       "4  OOPS. I typed her name incorrectly (today’s br...       en      3   \n",
       "5  It sucks for me since I'm focused on the natur...       en      1   \n",
       "\n",
       "                                      precessed_text  \n",
       "0  testimony evidence court law state federal sta...  \n",
       "2  flagstar bank disclose data breach impact mill...  \n",
       "3  rwanda set host headquarters united nations de...  \n",
       "4  oops type incorrectly today brave witness cass...  \n",
       "5  suck focused nature aspect thing environmental...  "
      ]
     },
     "execution_count": 59,
     "metadata": {},
     "output_type": "execute_result"
    }
   ],
   "source": [
    "df_new.head()"
   ]
  },
  {
   "cell_type": "code",
   "execution_count": 44,
   "id": "205f649c-2831-48fa-a6a2-f8c642010577",
   "metadata": {},
   "outputs": [
    {
     "data": {
      "text/plain": [
       "0    @Charlie_Corley @Kristine1G @amyklobuchar @Sty...\n",
       "Name: Text, dtype: object"
      ]
     },
     "execution_count": 44,
     "metadata": {},
     "output_type": "execute_result"
    }
   ],
   "source": [
    "df_new[df_new.index==0]['Text']"
   ]
  },
  {
   "cell_type": "code",
   "execution_count": 60,
   "id": "b42a1b5e-5c8e-435a-a5bb-3a7ea2b7be6b",
   "metadata": {},
   "outputs": [
    {
     "data": {
      "text/plain": [
       "Text              0\n",
       "Language          0\n",
       "Label             0\n",
       "precessed_text    0\n",
       "dtype: int64"
      ]
     },
     "execution_count": 60,
     "metadata": {},
     "output_type": "execute_result"
    }
   ],
   "source": [
    "df_new.isna().sum()"
   ]
  },
  {
   "cell_type": "code",
   "execution_count": 61,
   "id": "e8b54fd3-60a1-4f84-beb0-bbb947dd39fa",
   "metadata": {},
   "outputs": [],
   "source": [
    "df_new = df_new.reset_index(drop=True)"
   ]
  },
  {
   "cell_type": "code",
   "execution_count": 62,
   "id": "4721ecee-2a0c-4b31-8561-2f666778a817",
   "metadata": {},
   "outputs": [
    {
     "data": {
      "text/html": [
       "<div>\n",
       "<style scoped>\n",
       "    .dataframe tbody tr th:only-of-type {\n",
       "        vertical-align: middle;\n",
       "    }\n",
       "\n",
       "    .dataframe tbody tr th {\n",
       "        vertical-align: top;\n",
       "    }\n",
       "\n",
       "    .dataframe thead th {\n",
       "        text-align: right;\n",
       "    }\n",
       "</style>\n",
       "<table border=\"1\" class=\"dataframe\">\n",
       "  <thead>\n",
       "    <tr style=\"text-align: right;\">\n",
       "      <th></th>\n",
       "      <th>Text</th>\n",
       "      <th>Language</th>\n",
       "      <th>Label</th>\n",
       "      <th>precessed_text</th>\n",
       "    </tr>\n",
       "  </thead>\n",
       "  <tbody>\n",
       "    <tr>\n",
       "      <th>0</th>\n",
       "      <td>@Charlie_Corley @Kristine1G @amyklobuchar @Sty...</td>\n",
       "      <td>en</td>\n",
       "      <td>3</td>\n",
       "      <td>testimony evidence court law state federal sta...</td>\n",
       "    </tr>\n",
       "    <tr>\n",
       "      <th>1</th>\n",
       "      <td>https://t.co/YJNiO0p1JV Flagstar Bank disclose...</td>\n",
       "      <td>en</td>\n",
       "      <td>3</td>\n",
       "      <td>flagstar bank disclose data breach impact mill...</td>\n",
       "    </tr>\n",
       "    <tr>\n",
       "      <th>2</th>\n",
       "      <td>Rwanda is set to host the headquarters of Unit...</td>\n",
       "      <td>en</td>\n",
       "      <td>0</td>\n",
       "      <td>rwanda set host headquarters united nations de...</td>\n",
       "    </tr>\n",
       "    <tr>\n",
       "      <th>3</th>\n",
       "      <td>OOPS. I typed her name incorrectly (today’s br...</td>\n",
       "      <td>en</td>\n",
       "      <td>3</td>\n",
       "      <td>oops type incorrectly today brave witness cass...</td>\n",
       "    </tr>\n",
       "    <tr>\n",
       "      <th>4</th>\n",
       "      <td>It sucks for me since I'm focused on the natur...</td>\n",
       "      <td>en</td>\n",
       "      <td>1</td>\n",
       "      <td>suck focused nature aspect thing environmental...</td>\n",
       "    </tr>\n",
       "  </tbody>\n",
       "</table>\n",
       "</div>"
      ],
      "text/plain": [
       "                                                Text Language  Label  \\\n",
       "0  @Charlie_Corley @Kristine1G @amyklobuchar @Sty...       en      3   \n",
       "1  https://t.co/YJNiO0p1JV Flagstar Bank disclose...       en      3   \n",
       "2  Rwanda is set to host the headquarters of Unit...       en      0   \n",
       "3  OOPS. I typed her name incorrectly (today’s br...       en      3   \n",
       "4  It sucks for me since I'm focused on the natur...       en      1   \n",
       "\n",
       "                                      precessed_text  \n",
       "0  testimony evidence court law state federal sta...  \n",
       "1  flagstar bank disclose data breach impact mill...  \n",
       "2  rwanda set host headquarters united nations de...  \n",
       "3  oops type incorrectly today brave witness cass...  \n",
       "4  suck focused nature aspect thing environmental...  "
      ]
     },
     "execution_count": 62,
     "metadata": {},
     "output_type": "execute_result"
    }
   ],
   "source": [
    "df_new.head()"
   ]
  },
  {
   "cell_type": "code",
   "execution_count": 70,
   "id": "4b18e9e5-acb6-4c8d-ac8f-b5e2d658920c",
   "metadata": {},
   "outputs": [],
   "source": [
    "## Assigning X and Y values "
   ]
  },
  {
   "cell_type": "code",
   "execution_count": 63,
   "id": "354d5937-776b-4ed6-b40a-46cf13c3860e",
   "metadata": {},
   "outputs": [],
   "source": [
    "X=df_new['precessed_text']\n",
    "y=df_new['Label']"
   ]
  },
  {
   "cell_type": "code",
   "execution_count": null,
   "id": "d4928316-5abf-4d19-aeb1-8a748c7802d8",
   "metadata": {},
   "outputs": [],
   "source": [
    "###### Changing Text to numercial using TF-IDF and SPlitting into train and test and apply some oversampling to match imbaleced dataset "
   ]
  },
  {
   "cell_type": "code",
   "execution_count": 64,
   "id": "bc32bc40-dfa6-4cd0-bdc3-2b6d397ab9bb",
   "metadata": {},
   "outputs": [],
   "source": [
    "from sklearn.model_selection import train_test_split\n",
    "from sklearn.feature_extraction.text import TfidfVectorizer\n",
    "\n",
    "\n",
    "# TF-IDF Vectorization\n",
    "tfidf_vectorizer = TfidfVectorizer(max_features=5000)  # You can adjust max_features as needed\n",
    "X_tfidf = tfidf_vectorizer.fit_transform(X)\n",
    "\n",
    "\n",
    "X_train_tfidf, X_test_tfidf, y_train, y_test = train_test_split(X_tfidf, y, test_size=0.2, random_state=42, stratify=y)\n",
    "\n",
    "\n",
    "from imblearn.over_sampling import SMOTE\n",
    "\n",
    "smote = SMOTE(random_state=42)\n",
    "X_train_balanced, y_train_balanced = smote.fit_resample(X_train_tfidf, y_train)"
   ]
  },
  {
   "cell_type": "code",
   "execution_count": 68,
   "id": "1acd1905-902b-4cb8-b1f3-b58281725253",
   "metadata": {},
   "outputs": [
    {
     "name": "stdout",
     "output_type": "stream",
     "text": [
      "  (0, 3514)\t0.6545920514076795\n",
      "  (0, 3352)\t0.5521077333963217\n",
      "  (0, 346)\t0.4137556903754305\n",
      "  (0, 3391)\t0.3090186493398303\n",
      "  (1, 74)\t0.3435426050212036\n",
      "  (1, 1014)\t0.34228711361936315\n",
      "  (1, 3367)\t0.25965399565277564\n",
      "  (1, 626)\t0.2163101170357047\n",
      "  (1, 2058)\t0.25321825445807383\n",
      "  (1, 651)\t0.45141579314103647\n",
      "  (1, 2022)\t0.3861162952513809\n",
      "  (1, 3915)\t0.16403921219063153\n",
      "  (1, 4289)\t0.22413841706503332\n",
      "  (1, 4463)\t0.18808445467007726\n",
      "  (1, 3277)\t0.14868286468195777\n",
      "  (1, 4929)\t0.1689056673676953\n",
      "  (1, 2547)\t0.16338024353310843\n",
      "  (1, 1032)\t0.20922421495453697\n",
      "  (2, 1259)\t0.34609044957309243\n",
      "  (2, 715)\t0.3269249197286172\n",
      "  (2, 2166)\t0.2572122711425497\n",
      "  (2, 668)\t0.2658834835118768\n",
      "  (2, 1056)\t0.309977805040831\n",
      "  (2, 4379)\t0.31707214442330495\n",
      "  (2, 1044)\t0.30232498121389617\n",
      "  :\t:\n",
      "  (795249, 3230)\t0.2127948279067135\n",
      "  (795249, 2881)\t0.21744154875421995\n",
      "  (795249, 4502)\t0.2126566543431983\n",
      "  (795249, 830)\t0.19998443608551933\n",
      "  (795250, 1693)\t0.0714193319272397\n",
      "  (795250, 975)\t0.04628061952927073\n",
      "  (795250, 4408)\t0.0572623175508947\n",
      "  (795250, 3399)\t0.09423775881265778\n",
      "  (795250, 3537)\t0.07657916043083829\n",
      "  (795250, 176)\t0.08062907027354071\n",
      "  (795250, 2727)\t0.07290461152354188\n",
      "  (795251, 172)\t0.1987273659029043\n",
      "  (795251, 1934)\t0.03897732186323191\n",
      "  (795251, 4182)\t0.070041001994711\n",
      "  (795251, 1901)\t0.048558783411132025\n",
      "  (795251, 1062)\t0.05467685335673232\n",
      "  (795251, 3406)\t0.08632754906105802\n",
      "  (795251, 2000)\t0.0619129626194192\n",
      "  (795251, 1896)\t0.09059345227071361\n",
      "  (795251, 1823)\t0.06644813734497175\n",
      "  (795251, 1306)\t0.09343701240631966\n",
      "  (795251, 80)\t0.10885486002693115\n",
      "  (795251, 2170)\t0.09607200691410894\n",
      "  (795251, 4953)\t0.10231147750764821\n",
      "  (795251, 1058)\t0.1079522179395686\n"
     ]
    }
   ],
   "source": [
    "print(X_train_balanced)"
   ]
  },
  {
   "cell_type": "code",
   "execution_count": 71,
   "id": "2865b17f-9f32-4bc3-b429-03eea5f83982",
   "metadata": {},
   "outputs": [
    {
     "data": {
      "text/html": [
       "<style>#sk-container-id-1 {color: black;background-color: white;}#sk-container-id-1 pre{padding: 0;}#sk-container-id-1 div.sk-toggleable {background-color: white;}#sk-container-id-1 label.sk-toggleable__label {cursor: pointer;display: block;width: 100%;margin-bottom: 0;padding: 0.3em;box-sizing: border-box;text-align: center;}#sk-container-id-1 label.sk-toggleable__label-arrow:before {content: \"▸\";float: left;margin-right: 0.25em;color: #696969;}#sk-container-id-1 label.sk-toggleable__label-arrow:hover:before {color: black;}#sk-container-id-1 div.sk-estimator:hover label.sk-toggleable__label-arrow:before {color: black;}#sk-container-id-1 div.sk-toggleable__content {max-height: 0;max-width: 0;overflow: hidden;text-align: left;background-color: #f0f8ff;}#sk-container-id-1 div.sk-toggleable__content pre {margin: 0.2em;color: black;border-radius: 0.25em;background-color: #f0f8ff;}#sk-container-id-1 input.sk-toggleable__control:checked~div.sk-toggleable__content {max-height: 200px;max-width: 100%;overflow: auto;}#sk-container-id-1 input.sk-toggleable__control:checked~label.sk-toggleable__label-arrow:before {content: \"▾\";}#sk-container-id-1 div.sk-estimator input.sk-toggleable__control:checked~label.sk-toggleable__label {background-color: #d4ebff;}#sk-container-id-1 div.sk-label input.sk-toggleable__control:checked~label.sk-toggleable__label {background-color: #d4ebff;}#sk-container-id-1 input.sk-hidden--visually {border: 0;clip: rect(1px 1px 1px 1px);clip: rect(1px, 1px, 1px, 1px);height: 1px;margin: -1px;overflow: hidden;padding: 0;position: absolute;width: 1px;}#sk-container-id-1 div.sk-estimator {font-family: monospace;background-color: #f0f8ff;border: 1px dotted black;border-radius: 0.25em;box-sizing: border-box;margin-bottom: 0.5em;}#sk-container-id-1 div.sk-estimator:hover {background-color: #d4ebff;}#sk-container-id-1 div.sk-parallel-item::after {content: \"\";width: 100%;border-bottom: 1px solid gray;flex-grow: 1;}#sk-container-id-1 div.sk-label:hover label.sk-toggleable__label {background-color: #d4ebff;}#sk-container-id-1 div.sk-serial::before {content: \"\";position: absolute;border-left: 1px solid gray;box-sizing: border-box;top: 0;bottom: 0;left: 50%;z-index: 0;}#sk-container-id-1 div.sk-serial {display: flex;flex-direction: column;align-items: center;background-color: white;padding-right: 0.2em;padding-left: 0.2em;position: relative;}#sk-container-id-1 div.sk-item {position: relative;z-index: 1;}#sk-container-id-1 div.sk-parallel {display: flex;align-items: stretch;justify-content: center;background-color: white;position: relative;}#sk-container-id-1 div.sk-item::before, #sk-container-id-1 div.sk-parallel-item::before {content: \"\";position: absolute;border-left: 1px solid gray;box-sizing: border-box;top: 0;bottom: 0;left: 50%;z-index: -1;}#sk-container-id-1 div.sk-parallel-item {display: flex;flex-direction: column;z-index: 1;position: relative;background-color: white;}#sk-container-id-1 div.sk-parallel-item:first-child::after {align-self: flex-end;width: 50%;}#sk-container-id-1 div.sk-parallel-item:last-child::after {align-self: flex-start;width: 50%;}#sk-container-id-1 div.sk-parallel-item:only-child::after {width: 0;}#sk-container-id-1 div.sk-dashed-wrapped {border: 1px dashed gray;margin: 0 0.4em 0.5em 0.4em;box-sizing: border-box;padding-bottom: 0.4em;background-color: white;}#sk-container-id-1 div.sk-label label {font-family: monospace;font-weight: bold;display: inline-block;line-height: 1.2em;}#sk-container-id-1 div.sk-label-container {text-align: center;}#sk-container-id-1 div.sk-container {/* jupyter's `normalize.less` sets `[hidden] { display: none; }` but bootstrap.min.css set `[hidden] { display: none !important; }` so we also need the `!important` here to be able to override the default hidden behavior on the sphinx rendered scikit-learn.org. See: https://github.com/scikit-learn/scikit-learn/issues/21755 */display: inline-block !important;position: relative;}#sk-container-id-1 div.sk-text-repr-fallback {display: none;}</style><div id=\"sk-container-id-1\" class=\"sk-top-container\"><div class=\"sk-text-repr-fallback\"><pre>LogisticRegression(max_iter=1000, multi_class=&#x27;multinomial&#x27;)</pre><b>In a Jupyter environment, please rerun this cell to show the HTML representation or trust the notebook. <br />On GitHub, the HTML representation is unable to render, please try loading this page with nbviewer.org.</b></div><div class=\"sk-container\" hidden><div class=\"sk-item\"><div class=\"sk-estimator sk-toggleable\"><input class=\"sk-toggleable__control sk-hidden--visually\" id=\"sk-estimator-id-1\" type=\"checkbox\" checked><label for=\"sk-estimator-id-1\" class=\"sk-toggleable__label sk-toggleable__label-arrow\">LogisticRegression</label><div class=\"sk-toggleable__content\"><pre>LogisticRegression(max_iter=1000, multi_class=&#x27;multinomial&#x27;)</pre></div></div></div></div></div>"
      ],
      "text/plain": [
       "LogisticRegression(max_iter=1000, multi_class='multinomial')"
      ]
     },
     "execution_count": 71,
     "metadata": {},
     "output_type": "execute_result"
    }
   ],
   "source": [
    "####Model training \n",
    "from sklearn.linear_model import LogisticRegression\n",
    "from sklearn.metrics import accuracy_score, classification_report\n",
    "model = LogisticRegression(multi_class='multinomial', solver='lbfgs', max_iter=1000)\n",
    "model.fit(X_train_balanced, y_train_balanced)"
   ]
  },
  {
   "cell_type": "code",
   "execution_count": 73,
   "id": "a07f59e3-994b-427c-a248-36e93a8876bb",
   "metadata": {},
   "outputs": [
    {
     "name": "stdout",
     "output_type": "stream",
     "text": [
      "Accuracy: 0.9465590781286938\n"
     ]
    }
   ],
   "source": [
    "####Evaluvation\n",
    "X_train_pred = model.predict(X_train_balanced)\n",
    "\n",
    "# Evaluate the model\n",
    "accuracy = accuracy_score(y_train_balanced, X_train_pred)\n",
    "print(f'Accuracy: {accuracy}')"
   ]
  },
  {
   "cell_type": "code",
   "execution_count": 76,
   "id": "642dea8b-ec1d-4a56-a13a-fc6f3e48662c",
   "metadata": {},
   "outputs": [
    {
     "name": "stdout",
     "output_type": "stream",
     "text": [
      "  (0, 208)\t0.6586794283723301\n",
      "  (0, 1663)\t0.2378909372397276\n",
      "  (0, 3641)\t0.2703472945511786\n",
      "  (0, 2055)\t0.217766034499222\n",
      "  (0, 3647)\t0.2700392349341808\n",
      "  (0, 4964)\t0.17611754853308273\n",
      "  (0, 270)\t0.2640848857829262\n",
      "  (0, 2047)\t0.24646600279375058\n",
      "  (0, 3915)\t0.17672456916083085\n",
      "  (0, 4511)\t0.31880732423429364\n",
      "  (0, 2617)\t0.1474619513565601\n",
      "  (1, 2118)\t0.6173358170422407\n",
      "  (1, 3955)\t0.4848095045555852\n",
      "  (1, 1418)\t0.28675013852125775\n",
      "  (1, 4495)\t0.3344382151185379\n",
      "  (1, 2718)\t0.3202324181651377\n",
      "  (1, 4860)\t0.29535211184589777\n",
      "  (2, 3834)\t0.6493707815667807\n",
      "  (2, 1120)\t0.6084589185281469\n",
      "  (2, 4842)\t0.3203364872271512\n",
      "  (2, 3487)\t0.32477664242041077\n",
      "  (3, 2617)\t0.6348750014765991\n",
      "  (3, 3489)\t0.7726148668645255\n",
      "  (4, 2982)\t0.39166977946447074\n",
      "  (4, 1866)\t0.3348905016098198\n",
      "  :\t:\n",
      "  (174259, 3019)\t0.4592611005042583\n",
      "  (174259, 3760)\t0.43866611346371714\n",
      "  (174259, 4167)\t0.44965889068791687\n",
      "  (174259, 2231)\t0.2936407017609687\n",
      "  (174259, 3489)\t0.2897241253243331\n",
      "  (174260, 3328)\t0.3531314921239438\n",
      "  (174260, 3491)\t0.33055210969879956\n",
      "  (174260, 4053)\t0.28424727430408514\n",
      "  (174260, 4343)\t0.3018298997521644\n",
      "  (174260, 2506)\t0.33286795550146675\n",
      "  (174260, 2141)\t0.2517747878272315\n",
      "  (174260, 1418)\t0.1783901365493584\n",
      "  (174260, 981)\t0.25190274856977113\n",
      "  (174260, 458)\t0.2920260953208182\n",
      "  (174260, 4745)\t0.21891055983161228\n",
      "  (174260, 4417)\t0.20542414192158706\n",
      "  (174260, 4932)\t0.21384224784159608\n",
      "  (174260, 2507)\t0.1598043981091967\n",
      "  (174260, 4090)\t0.27928460629738505\n",
      "  (174261, 1286)\t0.5180602802836821\n",
      "  (174261, 4375)\t0.39948935406376956\n",
      "  (174261, 4564)\t0.38142060612371065\n",
      "  (174261, 3438)\t0.5245809808381855\n",
      "  (174261, 4929)\t0.26203746513558634\n",
      "  (174261, 4554)\t0.28756092330928695\n"
     ]
    }
   ],
   "source": [
    "print(X_test_tfidf)"
   ]
  },
  {
   "cell_type": "code",
   "execution_count": 77,
   "id": "cbef9ab8-b7df-474e-97de-9205facfa57f",
   "metadata": {},
   "outputs": [
    {
     "name": "stdout",
     "output_type": "stream",
     "text": [
      "Accuracy: 0.9461902193249245\n",
      "Classification Report:\n",
      "              precision    recall  f1-score   support\n",
      "\n",
      "           0       0.96      0.96      0.96     49703\n",
      "           1       0.95      0.95      0.95     48829\n",
      "           2       0.90      0.91      0.91     39717\n",
      "           3       0.97      0.97      0.97     36013\n",
      "\n",
      "    accuracy                           0.95    174262\n",
      "   macro avg       0.95      0.95      0.95    174262\n",
      "weighted avg       0.95      0.95      0.95    174262\n",
      "\n"
     ]
    }
   ],
   "source": [
    "y_pred = model.predict(X_test_tfidf)\n",
    "\n",
    "# Evaluate the model\n",
    "accuracy = accuracy_score(y_test, y_pred)\n",
    "print(f'Accuracy: {accuracy}')\n",
    "print('Classification Report:')\n",
    "print(classification_report(y_test, y_pred))\n"
   ]
  },
  {
   "cell_type": "code",
   "execution_count": 78,
   "id": "c5ba769a-6c73-4bd4-9839-831b97ce599c",
   "metadata": {},
   "outputs": [],
   "source": [
    "import pickle\n",
    "file_name='training_model.pkl'\n",
    "with open(file_name, 'wb') as file:\n",
    "    pickle.dump(model, file)"
   ]
  },
  {
   "cell_type": "code",
   "execution_count": 95,
   "id": "6b05f355-fbc9-42de-889c-1a2b27d2d5c4",
   "metadata": {},
   "outputs": [
    {
     "data": {
      "text/plain": [
       "['dk salute commitment stay game unmatched energy bring game powerful six decisive finish gorgeous glove work accompany infectious smile forever hold title dk boss',\n",
       " 'thing happen salman khan case persuade driver rap']"
      ]
     },
     "execution_count": 95,
     "metadata": {},
     "output_type": "execute_result"
    }
   ],
   "source": [
    "model_filename = 'training_model.pkl'\n",
    "with open(model_filename, 'rb') as file:\n",
    "    loaded_model = pickle.load(file)\n",
    "\n",
    "# Sample new test data (replace with your actual test data)\n",
    "new_texts = [\"DK, we salute you for the commitment you have to stay on top of your game, the unmatched energy you bring to every game, those powerful sixes, decisive finishes, and gorgeous glove work, all accompanied by that infectious smile. You'll forever hold the title of our DK Boss.\", \"The same thing happened in Salman Khan case, they persuaded the driver to take the rap !\"]\n",
    "\n",
    "\n",
    "# Preprocess the new test data\n",
    "preprocessed_texts = [textprocessing(text) for text in new_texts]\n",
    "\n",
    "\n",
    "preprocessed_texts"
   ]
  },
  {
   "cell_type": "code",
   "execution_count": 97,
   "id": "cb0610b0-4562-47cd-bded-9e08a8bcba28",
   "metadata": {},
   "outputs": [
    {
     "name": "stdout",
     "output_type": "stream",
     "text": [
      "Prediction: 2, Label: uncertainty\n",
      "Prediction: 2, Label: uncertainty\n"
     ]
    }
   ],
   "source": [
    "# Transform the preprocessed texts using the TF-IDF vectorizer\n",
    "X_new_tfidf = tfidf_vectorizer.transform(preprocessed_texts)\n",
    "\n",
    "# Make predictions using the loaded model\n",
    "predictions = loaded_model.predict(X_new_tfidf)\n",
    "\n",
    "for pred in predictions:\n",
    "    if pred == 0:\n",
    "        label = 'positive'\n",
    "    elif pred == 1:\n",
    "        label = 'negative'\n",
    "    elif pred == 2:\n",
    "        label = 'uncertainty'\n",
    "    elif pred == 3:\n",
    "        label = 'litigious'\n",
    "    else:\n",
    "        label = 'unknown'\n",
    "    print(f'Prediction: {pred}, Label: {label}')\n",
    "\n"
   ]
  },
  {
   "cell_type": "code",
   "execution_count": null,
   "id": "6a7dfbbd-9279-4eef-a427-947a0cb85c80",
   "metadata": {},
   "outputs": [],
   "source": []
  }
 ],
 "metadata": {
  "kernelspec": {
   "display_name": "Python 3 (ipykernel)",
   "language": "python",
   "name": "python3"
  },
  "language_info": {
   "codemirror_mode": {
    "name": "ipython",
    "version": 3
   },
   "file_extension": ".py",
   "mimetype": "text/x-python",
   "name": "python",
   "nbconvert_exporter": "python",
   "pygments_lexer": "ipython3",
   "version": "3.11.7"
  }
 },
 "nbformat": 4,
 "nbformat_minor": 5
}
